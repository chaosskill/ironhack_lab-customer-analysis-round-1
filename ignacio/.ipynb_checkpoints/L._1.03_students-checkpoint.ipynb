{
 "cells": [
  {
   "cell_type": "code",
   "execution_count": 1,
   "metadata": {
    "id": "fBd3kp6yBBsn"
   },
   "outputs": [],
   "source": [
    "import pandas as pd  # keywords are highlighted in green, other strings in red, etc.\n",
    "import numpy as np"
   ]
  },
  {
   "cell_type": "code",
   "execution_count": 2,
   "metadata": {
    "id": "W0f8zdY2doBo"
   },
   "outputs": [],
   "source": [
    "#!pip install --upgrade pandas\n",
    "#!conda install pandas"
   ]
  },
  {
   "cell_type": "code",
   "execution_count": 10,
   "metadata": {
    "id": "qZ7Va2w3Wc00"
   },
   "outputs": [
    {
     "data": {
      "text/plain": [
       "'1.21.5'"
      ]
     },
     "execution_count": 10,
     "metadata": {},
     "output_type": "execute_result"
    }
   ],
   "source": [
    "pd.__version__\n",
    "np.__version__"
   ]
  },
  {
   "cell_type": "code",
   "execution_count": 12,
   "metadata": {
    "id": "YnyVjZNKsi9n"
   },
   "outputs": [
    {
     "ename": "FileNotFoundError",
     "evalue": "[Errno 2] No such file or directory: 'file1.csv'",
     "output_type": "error",
     "traceback": [
      "\u001b[1;31m---------------------------------------------------------------------------\u001b[0m",
      "\u001b[1;31mFileNotFoundError\u001b[0m                         Traceback (most recent call last)",
      "\u001b[1;32m~\\AppData\\Local\\Temp\\ipykernel_3144\\3836786318.py\u001b[0m in \u001b[0;36m<module>\u001b[1;34m\u001b[0m\n\u001b[1;32m----> 1\u001b[1;33m \u001b[0mfile1\u001b[0m \u001b[1;33m=\u001b[0m \u001b[0mpd\u001b[0m\u001b[1;33m.\u001b[0m\u001b[0mread_csv\u001b[0m\u001b[1;33m(\u001b[0m\u001b[1;34m'file1.csv'\u001b[0m\u001b[1;33m)\u001b[0m\u001b[1;33m\u001b[0m\u001b[1;33m\u001b[0m\u001b[0m\n\u001b[0m\u001b[0;32m      2\u001b[0m \u001b[0mfile2\u001b[0m \u001b[1;33m=\u001b[0m \u001b[0mpd\u001b[0m\u001b[1;33m.\u001b[0m\u001b[0mread_csv\u001b[0m\u001b[1;33m(\u001b[0m\u001b[1;34m'file2.txt'\u001b[0m\u001b[1;33m,\u001b[0m \u001b[0msep\u001b[0m\u001b[1;33m=\u001b[0m\u001b[1;34m'\\t'\u001b[0m\u001b[1;33m)\u001b[0m \u001b[1;31m# | \\ / , \\t\u001b[0m\u001b[1;33m\u001b[0m\u001b[1;33m\u001b[0m\u001b[0m\n",
      "\u001b[1;32mc:\\Users\\user\\anaconda3\\lib\\site-packages\\pandas\\util\\_decorators.py\u001b[0m in \u001b[0;36mwrapper\u001b[1;34m(*args, **kwargs)\u001b[0m\n\u001b[0;32m    309\u001b[0m                     \u001b[0mstacklevel\u001b[0m\u001b[1;33m=\u001b[0m\u001b[0mstacklevel\u001b[0m\u001b[1;33m,\u001b[0m\u001b[1;33m\u001b[0m\u001b[1;33m\u001b[0m\u001b[0m\n\u001b[0;32m    310\u001b[0m                 )\n\u001b[1;32m--> 311\u001b[1;33m             \u001b[1;32mreturn\u001b[0m \u001b[0mfunc\u001b[0m\u001b[1;33m(\u001b[0m\u001b[1;33m*\u001b[0m\u001b[0margs\u001b[0m\u001b[1;33m,\u001b[0m \u001b[1;33m**\u001b[0m\u001b[0mkwargs\u001b[0m\u001b[1;33m)\u001b[0m\u001b[1;33m\u001b[0m\u001b[1;33m\u001b[0m\u001b[0m\n\u001b[0m\u001b[0;32m    312\u001b[0m \u001b[1;33m\u001b[0m\u001b[0m\n\u001b[0;32m    313\u001b[0m         \u001b[1;32mreturn\u001b[0m \u001b[0mwrapper\u001b[0m\u001b[1;33m\u001b[0m\u001b[1;33m\u001b[0m\u001b[0m\n",
      "\u001b[1;32mc:\\Users\\user\\anaconda3\\lib\\site-packages\\pandas\\io\\parsers\\readers.py\u001b[0m in \u001b[0;36mread_csv\u001b[1;34m(filepath_or_buffer, sep, delimiter, header, names, index_col, usecols, squeeze, prefix, mangle_dupe_cols, dtype, engine, converters, true_values, false_values, skipinitialspace, skiprows, skipfooter, nrows, na_values, keep_default_na, na_filter, verbose, skip_blank_lines, parse_dates, infer_datetime_format, keep_date_col, date_parser, dayfirst, cache_dates, iterator, chunksize, compression, thousands, decimal, lineterminator, quotechar, quoting, doublequote, escapechar, comment, encoding, encoding_errors, dialect, error_bad_lines, warn_bad_lines, on_bad_lines, delim_whitespace, low_memory, memory_map, float_precision, storage_options)\u001b[0m\n\u001b[0;32m    676\u001b[0m     \u001b[0mkwds\u001b[0m\u001b[1;33m.\u001b[0m\u001b[0mupdate\u001b[0m\u001b[1;33m(\u001b[0m\u001b[0mkwds_defaults\u001b[0m\u001b[1;33m)\u001b[0m\u001b[1;33m\u001b[0m\u001b[1;33m\u001b[0m\u001b[0m\n\u001b[0;32m    677\u001b[0m \u001b[1;33m\u001b[0m\u001b[0m\n\u001b[1;32m--> 678\u001b[1;33m     \u001b[1;32mreturn\u001b[0m \u001b[0m_read\u001b[0m\u001b[1;33m(\u001b[0m\u001b[0mfilepath_or_buffer\u001b[0m\u001b[1;33m,\u001b[0m \u001b[0mkwds\u001b[0m\u001b[1;33m)\u001b[0m\u001b[1;33m\u001b[0m\u001b[1;33m\u001b[0m\u001b[0m\n\u001b[0m\u001b[0;32m    679\u001b[0m \u001b[1;33m\u001b[0m\u001b[0m\n\u001b[0;32m    680\u001b[0m \u001b[1;33m\u001b[0m\u001b[0m\n",
      "\u001b[1;32mc:\\Users\\user\\anaconda3\\lib\\site-packages\\pandas\\io\\parsers\\readers.py\u001b[0m in \u001b[0;36m_read\u001b[1;34m(filepath_or_buffer, kwds)\u001b[0m\n\u001b[0;32m    573\u001b[0m \u001b[1;33m\u001b[0m\u001b[0m\n\u001b[0;32m    574\u001b[0m     \u001b[1;31m# Create the parser.\u001b[0m\u001b[1;33m\u001b[0m\u001b[1;33m\u001b[0m\u001b[0m\n\u001b[1;32m--> 575\u001b[1;33m     \u001b[0mparser\u001b[0m \u001b[1;33m=\u001b[0m \u001b[0mTextFileReader\u001b[0m\u001b[1;33m(\u001b[0m\u001b[0mfilepath_or_buffer\u001b[0m\u001b[1;33m,\u001b[0m \u001b[1;33m**\u001b[0m\u001b[0mkwds\u001b[0m\u001b[1;33m)\u001b[0m\u001b[1;33m\u001b[0m\u001b[1;33m\u001b[0m\u001b[0m\n\u001b[0m\u001b[0;32m    576\u001b[0m \u001b[1;33m\u001b[0m\u001b[0m\n\u001b[0;32m    577\u001b[0m     \u001b[1;32mif\u001b[0m \u001b[0mchunksize\u001b[0m \u001b[1;32mor\u001b[0m \u001b[0miterator\u001b[0m\u001b[1;33m:\u001b[0m\u001b[1;33m\u001b[0m\u001b[1;33m\u001b[0m\u001b[0m\n",
      "\u001b[1;32mc:\\Users\\user\\anaconda3\\lib\\site-packages\\pandas\\io\\parsers\\readers.py\u001b[0m in \u001b[0;36m__init__\u001b[1;34m(self, f, engine, **kwds)\u001b[0m\n\u001b[0;32m    930\u001b[0m \u001b[1;33m\u001b[0m\u001b[0m\n\u001b[0;32m    931\u001b[0m         \u001b[0mself\u001b[0m\u001b[1;33m.\u001b[0m\u001b[0mhandles\u001b[0m\u001b[1;33m:\u001b[0m \u001b[0mIOHandles\u001b[0m \u001b[1;33m|\u001b[0m \u001b[1;32mNone\u001b[0m \u001b[1;33m=\u001b[0m \u001b[1;32mNone\u001b[0m\u001b[1;33m\u001b[0m\u001b[1;33m\u001b[0m\u001b[0m\n\u001b[1;32m--> 932\u001b[1;33m         \u001b[0mself\u001b[0m\u001b[1;33m.\u001b[0m\u001b[0m_engine\u001b[0m \u001b[1;33m=\u001b[0m \u001b[0mself\u001b[0m\u001b[1;33m.\u001b[0m\u001b[0m_make_engine\u001b[0m\u001b[1;33m(\u001b[0m\u001b[0mf\u001b[0m\u001b[1;33m,\u001b[0m \u001b[0mself\u001b[0m\u001b[1;33m.\u001b[0m\u001b[0mengine\u001b[0m\u001b[1;33m)\u001b[0m\u001b[1;33m\u001b[0m\u001b[1;33m\u001b[0m\u001b[0m\n\u001b[0m\u001b[0;32m    933\u001b[0m \u001b[1;33m\u001b[0m\u001b[0m\n\u001b[0;32m    934\u001b[0m     \u001b[1;32mdef\u001b[0m \u001b[0mclose\u001b[0m\u001b[1;33m(\u001b[0m\u001b[0mself\u001b[0m\u001b[1;33m)\u001b[0m\u001b[1;33m:\u001b[0m\u001b[1;33m\u001b[0m\u001b[1;33m\u001b[0m\u001b[0m\n",
      "\u001b[1;32mc:\\Users\\user\\anaconda3\\lib\\site-packages\\pandas\\io\\parsers\\readers.py\u001b[0m in \u001b[0;36m_make_engine\u001b[1;34m(self, f, engine)\u001b[0m\n\u001b[0;32m   1214\u001b[0m             \u001b[1;31m# \"Union[str, PathLike[str], ReadCsvBuffer[bytes], ReadCsvBuffer[str]]\"\u001b[0m\u001b[1;33m\u001b[0m\u001b[1;33m\u001b[0m\u001b[0m\n\u001b[0;32m   1215\u001b[0m             \u001b[1;31m# , \"str\", \"bool\", \"Any\", \"Any\", \"Any\", \"Any\", \"Any\"\u001b[0m\u001b[1;33m\u001b[0m\u001b[1;33m\u001b[0m\u001b[0m\n\u001b[1;32m-> 1216\u001b[1;33m             self.handles = get_handle(  # type: ignore[call-overload]\n\u001b[0m\u001b[0;32m   1217\u001b[0m                 \u001b[0mf\u001b[0m\u001b[1;33m,\u001b[0m\u001b[1;33m\u001b[0m\u001b[1;33m\u001b[0m\u001b[0m\n\u001b[0;32m   1218\u001b[0m                 \u001b[0mmode\u001b[0m\u001b[1;33m,\u001b[0m\u001b[1;33m\u001b[0m\u001b[1;33m\u001b[0m\u001b[0m\n",
      "\u001b[1;32mc:\\Users\\user\\anaconda3\\lib\\site-packages\\pandas\\io\\common.py\u001b[0m in \u001b[0;36mget_handle\u001b[1;34m(path_or_buf, mode, encoding, compression, memory_map, is_text, errors, storage_options)\u001b[0m\n\u001b[0;32m    784\u001b[0m         \u001b[1;32mif\u001b[0m \u001b[0mioargs\u001b[0m\u001b[1;33m.\u001b[0m\u001b[0mencoding\u001b[0m \u001b[1;32mand\u001b[0m \u001b[1;34m\"b\"\u001b[0m \u001b[1;32mnot\u001b[0m \u001b[1;32min\u001b[0m \u001b[0mioargs\u001b[0m\u001b[1;33m.\u001b[0m\u001b[0mmode\u001b[0m\u001b[1;33m:\u001b[0m\u001b[1;33m\u001b[0m\u001b[1;33m\u001b[0m\u001b[0m\n\u001b[0;32m    785\u001b[0m             \u001b[1;31m# Encoding\u001b[0m\u001b[1;33m\u001b[0m\u001b[1;33m\u001b[0m\u001b[0m\n\u001b[1;32m--> 786\u001b[1;33m             handle = open(\n\u001b[0m\u001b[0;32m    787\u001b[0m                 \u001b[0mhandle\u001b[0m\u001b[1;33m,\u001b[0m\u001b[1;33m\u001b[0m\u001b[1;33m\u001b[0m\u001b[0m\n\u001b[0;32m    788\u001b[0m                 \u001b[0mioargs\u001b[0m\u001b[1;33m.\u001b[0m\u001b[0mmode\u001b[0m\u001b[1;33m,\u001b[0m\u001b[1;33m\u001b[0m\u001b[1;33m\u001b[0m\u001b[0m\n",
      "\u001b[1;31mFileNotFoundError\u001b[0m: [Errno 2] No such file or directory: 'file1.csv'"
     ]
    }
   ],
   "source": [
    "\n",
    "file1 = pd.read_csv('file1.csv')\n",
    "file2 = pd.read_csv('file2.txt', sep='\\t') # | \\ / , \\t"
   ]
  },
  {
   "cell_type": "code",
   "execution_count": null,
   "metadata": {
    "id": "t_2FiWNjBYo3"
   },
   "outputs": [],
   "source": [
    "# Reading data into a DataFrame # read_csv(\"data/file1.csv\")\n",
    "file1 = pd.read_csv('file1.csv')\n",
    "#!print(type(file1))\n",
    "#!display(file1.head())\n",
    "#!display(file1.tail())\n",
    "print(file1.shape) # Attribute"
   ]
  },
  {
   "cell_type": "code",
   "execution_count": null,
   "metadata": {
    "id": "FogXNkNuWc02"
   },
   "outputs": [],
   "source": [
    "file1"
   ]
  },
  {
   "cell_type": "code",
   "execution_count": null,
   "metadata": {
    "id": "CF-BMcTQBBst"
   },
   "outputs": [],
   "source": [
    "file2 = pd.read_csv('file2.txt')  \n",
    "file2.head() # what is happening?"
   ]
  },
  {
   "cell_type": "code",
   "execution_count": null,
   "metadata": {
    "id": "wuX2gv3GBBst"
   },
   "outputs": [],
   "source": [
    "file2 = pd.read_csv('file2.txt', sep='\\t') # | \\ / , \\t\n",
    "file2.head()"
   ]
  },
  {
   "cell_type": "code",
   "execution_count": 11,
   "metadata": {
    "id": "e14oS14LzwW1"
   },
   "outputs": [
    {
     "ename": "NameError",
     "evalue": "name 'file1' is not defined",
     "output_type": "error",
     "traceback": [
      "\u001b[1;31m---------------------------------------------------------------------------\u001b[0m",
      "\u001b[1;31mNameError\u001b[0m                                 Traceback (most recent call last)",
      "\u001b[1;32m~\\AppData\\Local\\Temp\\ipykernel_3144\\3033274954.py\u001b[0m in \u001b[0;36m<module>\u001b[1;34m\u001b[0m\n\u001b[1;32m----> 1\u001b[1;33m \u001b[0mfile1\u001b[0m\u001b[1;33m.\u001b[0m\u001b[0mcolumns\u001b[0m\u001b[1;33m\u001b[0m\u001b[1;33m\u001b[0m\u001b[0m\n\u001b[0m",
      "\u001b[1;31mNameError\u001b[0m: name 'file1' is not defined"
     ]
    }
   ],
   "source": [
    "file1.columns"
   ]
  },
  {
   "cell_type": "code",
   "execution_count": null,
   "metadata": {
    "id": "2jWyViscBBsu"
   },
   "outputs": [],
   "source": [
    "# Data blending\n",
    "column_names = file1.columns\n",
    "column_names"
   ]
  },
  {
   "cell_type": "code",
   "execution_count": null,
   "metadata": {
    "id": "E564Nk3MBBsu"
   },
   "outputs": [],
   "source": [
    "data = pd.concat([file1, file2], axis=0) #discuss axis here\n",
    "print(data.shape)\n",
    "display(data)"
   ]
  },
  {
   "cell_type": "code",
   "execution_count": null,
   "metadata": {
    "id": "WzKYBnetnXDJ"
   },
   "outputs": [],
   "source": [
    "print(file1.shape)\n",
    "print(file2.shape)"
   ]
  },
  {
   "cell_type": "code",
   "execution_count": null,
   "metadata": {
    "id": "HoVGGo3oXSeK"
   },
   "outputs": [],
   "source": [
    "file1.shape[0] + file2.shape[0]"
   ]
  },
  {
   "cell_type": "code",
   "execution_count": null,
   "metadata": {
    "id": "_4tk2nQ5DRsp"
   },
   "outputs": [],
   "source": [
    "weird_data = pd.concat([file1, file2], axis=1) #axis wrong\n",
    "weird_data"
   ]
  },
  {
   "cell_type": "code",
   "execution_count": null,
   "metadata": {
    "id": "67XcdkMZWc05"
   },
   "outputs": [],
   "source": [
    "data.columns[-1].lower()"
   ]
  },
  {
   "cell_type": "code",
   "execution_count": null,
   "metadata": {
    "id": "Ch8pbfAR176b"
   },
   "outputs": [],
   "source": [
    "s = \"My string\"\n",
    "print(\"String displayed in lowercase: \",s.lower())\n",
    "print(\"Original string: \",s)\n",
    "s = s.lower()\n",
    "print(\"Finally modifed string: \",s)"
   ]
  },
  {
   "cell_type": "code",
   "execution_count": null,
   "metadata": {
    "id": "A7SBMi0A12yV"
   },
   "outputs": [],
   "source": [
    "display(data)"
   ]
  },
  {
   "cell_type": "code",
   "execution_count": null,
   "metadata": {
    "id": "0L1e5ZIQM_uw"
   },
   "outputs": [],
   "source": [
    "len(data.columns)"
   ]
  },
  {
   "cell_type": "code",
   "execution_count": null,
   "metadata": {
    "id": "WCybhCW9ZIha"
   },
   "outputs": [],
   "source": [
    "data.shape[1]"
   ]
  },
  {
   "cell_type": "code",
   "execution_count": null,
   "metadata": {
    "id": "8mUxDdldNEsH"
   },
   "outputs": [],
   "source": [
    "range(17)"
   ]
  },
  {
   "cell_type": "code",
   "execution_count": null,
   "metadata": {
    "id": "JdvgfRMcbyPP"
   },
   "outputs": [],
   "source": [
    "my_list = [1,2,3]\n",
    "for i in range(len(my_list)):\n",
    "    print(my_list[i])"
   ]
  },
  {
   "cell_type": "code",
   "execution_count": null,
   "metadata": {
    "id": "sNj7wLxRBBsv"
   },
   "outputs": [],
   "source": [
    "cols = [] # list to store the new columns names\n",
    "for i in range(len(data.columns)):\n",
    "    cols.append(data.columns[i].lower())\n",
    "data.columns = cols\n",
    "\n",
    "# alternative for using range(len(list)) in the for loop:\n",
    "cols = []\n",
    "for column in data.columns:\n",
    "    cols.append(column.lower())\n",
    "data.columns = cols\n",
    "\n",
    "# renaming only some columns\n",
    "data = data.rename(columns={'controln':'id',\n",
    "                            'hv1':'median_home_val', \n",
    "                            'ic1':'median_household_income'})\n",
    "data.head()\n",
    "# #data.shape"
   ]
  },
  {
   "cell_type": "code",
   "execution_count": null,
   "metadata": {
    "id": "b70ydsvURxH4"
   },
   "outputs": [],
   "source": [
    "\" \".join(list(file1.columns))"
   ]
  },
  {
   "cell_type": "code",
   "execution_count": null,
   "metadata": {
    "id": "biSokX3Z53Bi"
   },
   "outputs": [],
   "source": [
    "file1.columns == file2.columns"
   ]
  },
  {
   "cell_type": "code",
   "execution_count": null,
   "metadata": {
    "id": "r9vPPmODOuYU"
   },
   "outputs": [],
   "source": [
    "np.sum(file1.columns == file2.columns)"
   ]
  },
  {
   "cell_type": "markdown",
   "metadata": {
    "id": "AcWNRRrVb1ka"
   },
   "source": [
    "## Activity 1\n",
    "\n",
    "You can find the instructions of this activity [here](https://github.com/ironhack-edu/data_1.03_activities/blob/master/1.03_activity_1.md)"
   ]
  },
  {
   "cell_type": "code",
   "execution_count": null,
   "metadata": {
    "id": "KENbDlQhBBsv"
   },
   "outputs": [],
   "source": [
    "#Activity 1\n",
    "# some students might get an error saying that optional dependency openpyxl is missing\n",
    "# in that case, open Terminal (in MacOS/Linux) and type (without the #):\n",
    "# conda install openpyxl\n",
    "# If you are on Windows, go to the Windows search bar and type \"Anaconda Prompt\". Click on it and\n",
    "# and type (without the #):\n",
    "# conda install openpyxl  \n",
    "\n"
   ]
  },
  {
   "cell_type": "code",
   "execution_count": null,
   "metadata": {
    "id": "rdoipYpZBkYV"
   },
   "outputs": [],
   "source": []
  },
  {
   "cell_type": "code",
   "execution_count": null,
   "metadata": {
    "id": "l34qzDPpBrFN"
   },
   "outputs": [],
   "source": []
  },
  {
   "cell_type": "code",
   "execution_count": null,
   "metadata": {
    "id": "AXouQWGVmmb5"
   },
   "outputs": [],
   "source": []
  },
  {
   "cell_type": "code",
   "execution_count": null,
   "metadata": {
    "id": "iJs1NYRwWc07"
   },
   "outputs": [],
   "source": []
  },
  {
   "cell_type": "code",
   "execution_count": null,
   "metadata": {
    "id": "4jfoj_0rBBsv"
   },
   "outputs": [],
   "source": []
  },
  {
   "cell_type": "code",
   "execution_count": null,
   "metadata": {
    "id": "z37OIl4lBBsw"
   },
   "outputs": [],
   "source": [
    "\n",
    "#End of Activity 1"
   ]
  },
  {
   "cell_type": "code",
   "execution_count": null,
   "metadata": {
    "id": "2h0v2cP_GkE9"
   },
   "outputs": [],
   "source": [
    "data.head()"
   ]
  },
  {
   "cell_type": "code",
   "execution_count": null,
   "metadata": {
    "id": "FyOBIGDibHUf"
   },
   "outputs": [],
   "source": [
    "list(pd.read_csv(\"file1.csv\").index)"
   ]
  },
  {
   "cell_type": "code",
   "execution_count": null,
   "metadata": {
    "id": "6Dci6WSeAQHh"
   },
   "outputs": [],
   "source": [
    "# df.loc[row_labels, colum_labels]\n",
    "# df.iloc[row_indexes, column_indexes]"
   ]
  },
  {
   "cell_type": "code",
   "execution_count": null,
   "metadata": {
    "id": "czPeWpVm7imf"
   },
   "outputs": [],
   "source": [
    "#data.loc[:,[\"gender\",\"id\"]]\n",
    "#data.iloc[:,[2,0]]\n",
    "#data.iloc[:,[\"gender\",0]]\n",
    "data.loc[0,[\"gender\",\"id\"]]\n",
    "#data.iloc[:,[2,0]]"
   ]
  },
  {
   "cell_type": "code",
   "execution_count": null,
   "metadata": {
    "id": "VADhE7D1D1eG"
   },
   "outputs": [],
   "source": [
    "# reset the row indexes to avoid having two rows with the same number\n",
    "# without drop = False regenerates row numbers, a new column named \"index\" will be added\n",
    "# to the dataframe wit the old row numbers.\n",
    "# with drop = True regenerates row numbers without an additional column\n",
    "# way 1\n",
    "data = data.reset_index(drop = True)"
   ]
  },
  {
   "cell_type": "code",
   "execution_count": null,
   "metadata": {
    "id": "nfR2jpn57zYf"
   },
   "outputs": [],
   "source": [
    "data.head()"
   ]
  },
  {
   "cell_type": "code",
   "execution_count": null,
   "metadata": {
    "id": "nuwThGBOGhEt"
   },
   "outputs": [],
   "source": [
    "#slicing\n",
    "# Loc works with labels\n",
    "data.loc[0:3,[\"id\",\"state\"]]"
   ]
  },
  {
   "cell_type": "code",
   "execution_count": null,
   "metadata": {
    "id": "IkfC627DHAc-"
   },
   "outputs": [],
   "source": [
    "#slicing\n",
    "data.loc[[0,1,2],:]\n",
    "# data.head(3)"
   ]
  },
  {
   "cell_type": "code",
   "execution_count": null,
   "metadata": {
    "id": "8QYDxFRXHH1V"
   },
   "outputs": [],
   "source": [
    "#slicing\n",
    "data.loc[:,['id','state']]"
   ]
  },
  {
   "cell_type": "code",
   "execution_count": null,
   "metadata": {
    "id": "dp-g3x-bHMMv"
   },
   "outputs": [],
   "source": [
    "#slicing shortcut\n",
    "data[['id','state']] # data.loc[:,['id','state']]"
   ]
  },
  {
   "cell_type": "code",
   "execution_count": null,
   "metadata": {
    "id": "pXafuJgLHSl1"
   },
   "outputs": [],
   "source": [
    "#also useful to reorder columns\n",
    "data[['state','id']]"
   ]
  },
  {
   "cell_type": "code",
   "execution_count": null,
   "metadata": {
    "id": "PsVAPnvX-P-5"
   },
   "outputs": [],
   "source": [
    "#data = data[[data.colummns[-1],data.columns[:-1]]]"
   ]
  },
  {
   "cell_type": "code",
   "execution_count": null,
   "metadata": {
    "id": "MDeAOS-QWc09"
   },
   "outputs": [],
   "source": [
    "data.head()"
   ]
  },
  {
   "cell_type": "code",
   "execution_count": null,
   "metadata": {
    "id": "NJc8vvKOfmX5"
   },
   "outputs": [],
   "source": []
  },
  {
   "cell_type": "code",
   "execution_count": null,
   "metadata": {
    "id": "58nQFBWPEAk3"
   },
   "outputs": [],
   "source": [
    "#another shortcut\n",
    "data[['gender']]"
   ]
  },
  {
   "cell_type": "code",
   "execution_count": null,
   "metadata": {
    "id": "YQ0Qb98bKvUZ"
   },
   "outputs": [],
   "source": [
    "type(data[['gender']])"
   ]
  },
  {
   "cell_type": "code",
   "execution_count": null,
   "metadata": {
    "id": "oS8vO8Wx-5zp"
   },
   "outputs": [],
   "source": [
    "data['gender']"
   ]
  },
  {
   "cell_type": "code",
   "execution_count": null,
   "metadata": {
    "id": "z8JZV4YQKzrG"
   },
   "outputs": [],
   "source": [
    "type(data['gender'])"
   ]
  },
  {
   "cell_type": "code",
   "execution_count": null,
   "metadata": {
    "id": "eJABuKPnKoec"
   },
   "outputs": [],
   "source": [
    "data['gender']"
   ]
  },
  {
   "cell_type": "code",
   "execution_count": null,
   "metadata": {
    "id": "6xIBmseMFmeO"
   },
   "outputs": [],
   "source": [
    "#watch out for mutability\n",
    "just_gender = data['gender']\n",
    "just_gender[1012]\n",
    "#just_gender"
   ]
  },
  {
   "cell_type": "code",
   "execution_count": null,
   "metadata": {
    "id": "MIQzhnrpHo3-"
   },
   "outputs": [],
   "source": [
    "just_gender[1012] = 'F'\n",
    "just_gender[1012]"
   ]
  },
  {
   "cell_type": "code",
   "execution_count": null,
   "metadata": {
    "id": "quCgCNB9_y3L"
   },
   "outputs": [],
   "source": [
    "data['gender'].value_counts()"
   ]
  },
  {
   "cell_type": "code",
   "execution_count": null,
   "metadata": {
    "id": "bY979SVjHs9V"
   },
   "outputs": [],
   "source": [
    "#whoah!\n",
    "data"
   ]
  },
  {
   "cell_type": "code",
   "execution_count": null,
   "metadata": {
    "id": "kRQMgRVBLqXc"
   },
   "outputs": [],
   "source": [
    "#just_gender_copied1 = data['gender'] # the same with other name\n",
    "#just_gender_copied = data['gender'].copy() # independent copy"
   ]
  },
  {
   "cell_type": "code",
   "execution_count": null,
   "metadata": {
    "id": "AoskWyxoIAZG"
   },
   "outputs": [],
   "source": [
    "just_gender_copied = data['gender'].copy()\n",
    "just_gender_copied[1014]"
   ]
  },
  {
   "cell_type": "code",
   "execution_count": null,
   "metadata": {
    "id": "XBAbuiK0IHrV"
   },
   "outputs": [],
   "source": [
    "just_gender_copied[1014] = 'F'\n",
    "just_gender_copied"
   ]
  },
  {
   "cell_type": "code",
   "execution_count": null,
   "metadata": {
    "id": "1-eIUKLxA8AU"
   },
   "outputs": [],
   "source": [
    "data.loc[1014,\"gender\"]"
   ]
  },
  {
   "cell_type": "code",
   "execution_count": null,
   "metadata": {
    "id": "T9YCoOWSILYj"
   },
   "outputs": [],
   "source": [
    "#Now we have what we want:\n",
    "data"
   ]
  },
  {
   "cell_type": "code",
   "execution_count": null,
   "metadata": {
    "id": "G8Nc0MXVR6Od"
   },
   "outputs": [],
   "source": [
    "data[['gender','id','state']]"
   ]
  },
  {
   "cell_type": "code",
   "execution_count": null,
   "metadata": {
    "id": "oqffbxY1Spoo"
   },
   "outputs": [],
   "source": [
    "data[['gender']+['id']+['state','ic4']]"
   ]
  },
  {
   "cell_type": "code",
   "execution_count": null,
   "metadata": {
    "id": "v8pRK0w4ScwL"
   },
   "outputs": [],
   "source": [
    "data[[data.columns[1]]]"
   ]
  },
  {
   "cell_type": "code",
   "execution_count": null,
   "metadata": {
    "id": "RloEwtohTynl"
   },
   "outputs": [],
   "source": [
    "list(data.columns[3:])"
   ]
  },
  {
   "cell_type": "code",
   "execution_count": null,
   "metadata": {
    "id": "D_GwA8zzBsNz"
   },
   "outputs": [],
   "source": [
    "#data[['state']]\n",
    "#[data.columns[1]]\n",
    "data[[data.columns[1]]+[data.columns[0]]+list(data.columns[3:])]\n",
    "#data[[list(data.columns)[1]]+list(data.columns)[:1]+[list(data.columns)[2:]]]"
   ]
  },
  {
   "cell_type": "code",
   "execution_count": null,
   "metadata": {
    "id": "Ielz0c6xIPY7"
   },
   "outputs": [],
   "source": [
    "#operations between columns\n",
    "#% income donated\n",
    "data['target_d']/data['median_household_income']"
   ]
  },
  {
   "cell_type": "code",
   "execution_count": null,
   "metadata": {
    "id": "15R_Ly-FI3yX"
   },
   "outputs": [],
   "source": [
    "#new columns\n",
    "data['percent_income_donated'] = data['target_d']/data['median_household_income']\n",
    "data.head()"
   ]
  },
  {
   "cell_type": "code",
   "execution_count": null,
   "metadata": {
    "id": "ce3wTK_SI_gW"
   },
   "outputs": [],
   "source": [
    "#boolean masks\n",
    "data['very_generous'] = data['percent_income_donated']>0.25\n",
    "data.head(17)"
   ]
  },
  {
   "cell_type": "code",
   "execution_count": null,
   "metadata": {
    "id": "wg-OmDq2JuuV"
   },
   "outputs": [],
   "source": [
    "#filtering!\n",
    "data[data['very_generous']==True]"
   ]
  },
  {
   "cell_type": "code",
   "execution_count": null,
   "metadata": {
    "id": "qQfguqD5KEQ9"
   },
   "outputs": [],
   "source": [
    "#filtering!\n",
    "data[data['target_d']==100]"
   ]
  },
  {
   "cell_type": "code",
   "execution_count": null,
   "metadata": {
    "id": "5Mg9l0T7KSQd"
   },
   "outputs": [],
   "source": [
    "#combining filters and, or\n",
    "#filtering! The \"AND\" operator is \"&\". The \"OR\" is \"|\", NOT is ~\n",
    "data[(data['target_d']==100) & (data['very_generous'] == True) ]"
   ]
  },
  {
   "cell_type": "code",
   "execution_count": null,
   "metadata": {
    "id": "l3RJ9JL9PD3d"
   },
   "outputs": [],
   "source": [
    "data[((data['target_d']==100) | (data['very_generous'] == True)) & (data['domain'] == \"C2\")]"
   ]
  },
  {
   "cell_type": "code",
   "execution_count": null,
   "metadata": {
    "id": "BOjTKHifF4M0"
   },
   "outputs": [],
   "source": [
    "data['state'].value_counts()"
   ]
  },
  {
   "cell_type": "code",
   "execution_count": null,
   "metadata": {
    "id": "16RTxjKcWc1A"
   },
   "outputs": [],
   "source": [
    "data[(data['state'].isin(['CA','California','Cali']))  & (data['avggift']<50)]"
   ]
  },
  {
   "cell_type": "code",
   "execution_count": null,
   "metadata": {
    "id": "D29lKr30QbD7"
   },
   "outputs": [],
   "source": [
    "list(data['gender'].unique())"
   ]
  },
  {
   "cell_type": "code",
   "execution_count": null,
   "metadata": {
    "id": "WCAC5wnxGpwB"
   },
   "outputs": [],
   "source": [
    "data['gender'].nunique()"
   ]
  },
  {
   "cell_type": "code",
   "execution_count": null,
   "metadata": {
    "id": "BSazcMrNWc1A"
   },
   "outputs": [],
   "source": [
    "data['gender'].value_counts(dropna=False)"
   ]
  },
  {
   "cell_type": "code",
   "execution_count": null,
   "metadata": {
    "id": "AOGDd7_pJNbk"
   },
   "outputs": [],
   "source": [
    "# deleting columns: how to\n",
    "# axis = 1 means columns\n",
    "# axis = 0 means rows\n",
    "data = data.drop(['tcode','percent_income_donated','very_generous'], axis=1)\n",
    "data.head()"
   ]
  },
  {
   "cell_type": "code",
   "execution_count": null,
   "metadata": {
    "id": "ys5vKm_DRrO6"
   },
   "outputs": [],
   "source": [
    "data.T.head()"
   ]
  },
  {
   "cell_type": "code",
   "execution_count": null,
   "metadata": {
    "id": "8WCR2JxngpXi"
   },
   "outputs": [],
   "source": [
    "data.T.iloc[0,:]"
   ]
  },
  {
   "cell_type": "code",
   "execution_count": null,
   "metadata": {
    "id": "aPvYvd5VhzX0"
   },
   "outputs": [],
   "source": [
    "data.T.T.head()"
   ]
  },
  {
   "cell_type": "code",
   "execution_count": null,
   "metadata": {
    "id": "pxR-Mho-Wc1A"
   },
   "outputs": [],
   "source": [
    "data1 = data.copy()\n",
    "data1.shape"
   ]
  },
  {
   "cell_type": "code",
   "execution_count": null,
   "metadata": {
    "id": "8Q6udRhXWc1B"
   },
   "outputs": [],
   "source": [
    "# drop rows\n",
    "# axis = 0 means rows\n",
    "data1 = data1.drop([0,1], axis=0)\n",
    "data1.head()"
   ]
  },
  {
   "cell_type": "code",
   "execution_count": null,
   "metadata": {
    "id": "jagpvwB7H089"
   },
   "outputs": [],
   "source": [
    "data.head()"
   ]
  },
  {
   "cell_type": "code",
   "execution_count": null,
   "metadata": {
    "id": "seLQRz0ehWPW"
   },
   "outputs": [],
   "source": [
    "#data1.loc[[0,1],:]"
   ]
  },
  {
   "cell_type": "code",
   "execution_count": null,
   "metadata": {
    "id": "dkr5WY0lWc1B"
   },
   "outputs": [],
   "source": [
    "data1.shape"
   ]
  },
  {
   "cell_type": "code",
   "execution_count": null,
   "metadata": {
    "id": "FjROzkScWc1B"
   },
   "outputs": [],
   "source": [
    "data.head()"
   ]
  },
  {
   "cell_type": "code",
   "execution_count": null,
   "metadata": {
    "id": "jOdIPNl6g2Hq"
   },
   "outputs": [],
   "source": [
    "data.T"
   ]
  },
  {
   "cell_type": "code",
   "execution_count": null,
   "metadata": {
    "id": "7lKRnw8VBBsw"
   },
   "outputs": [],
   "source": [
    "# # deleting columns: how to\n",
    "# data = data.drop(['tcode'], axis =1) # Explain the argument axis, when axis is 0 and 1\n",
    "\n",
    "# # Rearranging columns: how to\n",
    "data = data[['id', 'state', 'gender', 'median_home_val', 'median_household_income', 'ic2', 'ic3', 'ic4', 'ic5', 'avggift', 'domain', 'dob', 'target_d']]"
   ]
  },
  {
   "cell_type": "code",
   "execution_count": null,
   "metadata": {
    "id": "VWlljhPoWc1B"
   },
   "outputs": [],
   "source": [
    "data.head()"
   ]
  },
  {
   "cell_type": "markdown",
   "metadata": {
    "id": "0ejznT9gcHbd"
   },
   "source": [
    "## Activity 2\n",
    "\n",
    "You can find the instructions of this activity [here](https://github.com/ironhack-edu/data_1.03_activities/blob/master/1.03_activity_2.md)"
   ]
  },
  {
   "cell_type": "code",
   "execution_count": null,
   "metadata": {
    "id": "uBjdXu55BBsw"
   },
   "outputs": [],
   "source": [
    "#Activity 2\n"
   ]
  },
  {
   "cell_type": "code",
   "execution_count": null,
   "metadata": {
    "id": "Ba8cCpEyWc1B"
   },
   "outputs": [],
   "source": [
    "# 1"
   ]
  },
  {
   "cell_type": "code",
   "execution_count": null,
   "metadata": {
    "id": "SZVanv6eBBsx"
   },
   "outputs": [],
   "source": [
    "# 2\n"
   ]
  },
  {
   "cell_type": "code",
   "execution_count": null,
   "metadata": {
    "id": "aiQmgWieBBsx"
   },
   "outputs": [],
   "source": [
    "# 3\n"
   ]
  },
  {
   "cell_type": "code",
   "execution_count": null,
   "metadata": {
    "id": "NgVAHy2yBBsx"
   },
   "outputs": [],
   "source": [
    "# 4\n"
   ]
  },
  {
   "cell_type": "code",
   "execution_count": null,
   "metadata": {
    "id": "Cscu_6cwBBsx"
   },
   "outputs": [],
   "source": [
    "# 5\n",
    "\n",
    "# End of Activity 2"
   ]
  },
  {
   "cell_type": "code",
   "execution_count": null,
   "metadata": {
    "id": "1yVukNGvp0M5"
   },
   "outputs": [],
   "source": [
    "# and, or -> &, |"
   ]
  },
  {
   "cell_type": "code",
   "execution_count": null,
   "metadata": {
    "id": "13MBt48uBBsy"
   },
   "outputs": [],
   "source": [
    "#filter and reset the index\n",
    "# important to play with the code and check the output\n",
    "filtered = data[data['gender']=='M']  # Lets say that we are working on this filtered data\n",
    "filtered"
   ]
  },
  {
   "cell_type": "code",
   "execution_count": null,
   "metadata": {
    "id": "4sSauU0qqVJ-"
   },
   "outputs": [],
   "source": [
    "file3.head()"
   ]
  },
  {
   "cell_type": "code",
   "execution_count": null,
   "metadata": {
    "id": "PFCP3Fv0qYej"
   },
   "outputs": [],
   "source": [
    "file4.head()"
   ]
  },
  {
   "cell_type": "code",
   "execution_count": null,
   "metadata": {
    "id": "T0ATX6YfWc1D"
   },
   "outputs": [],
   "source": [
    "data.loc[1]"
   ]
  },
  {
   "cell_type": "code",
   "execution_count": null,
   "metadata": {
    "id": "9ZOWtW_iqd0f"
   },
   "outputs": [],
   "source": [
    "# issue on the index\n",
    "#filtered.loc[1]\n",
    "filtered.loc[3]"
   ]
  },
  {
   "cell_type": "code",
   "execution_count": null,
   "metadata": {
    "id": "mYX74YWWBBsy"
   },
   "outputs": [],
   "source": [
    "#filtered.reset_index(drop=True)\n",
    "filtered = filtered.reset_index(drop=True)\n",
    "#filtered= filtered.drop(['level_0'], axis=1)\n",
    "filtered"
   ]
  },
  {
   "cell_type": "code",
   "execution_count": null,
   "metadata": {
    "id": "UVE3aKP_BBsy"
   },
   "outputs": [],
   "source": [
    "temp = filtered.copy()\n",
    "temp = temp.set_index('state') # This is a dummy case, but indexes should be unique and not nulls, usually auto-increments by 1\n",
    "temp.head()"
   ]
  },
  {
   "cell_type": "code",
   "execution_count": null,
   "metadata": {
    "id": "1hZ7EGIoKk_8"
   },
   "outputs": [],
   "source": [
    "temp.columns"
   ]
  },
  {
   "cell_type": "code",
   "execution_count": null,
   "metadata": {
    "id": "6LsrfwHvWc1D"
   },
   "outputs": [],
   "source": [
    "temp.loc['FL']"
   ]
  },
  {
   "cell_type": "code",
   "execution_count": null,
   "metadata": {
    "id": "qy4Zpjq0Wc1E"
   },
   "outputs": [],
   "source": [
    "filtered[filtered['state']=='FL']"
   ]
  },
  {
   "cell_type": "code",
   "execution_count": null,
   "metadata": {
    "id": "V4c2tVAmBBsy"
   },
   "outputs": [],
   "source": [
    "# Working with indexes\n",
    "#filtered[1:4]\n",
    "# filtered[['gender', 'ic2', 'ic3']][0:10]\n",
    "# filtered.loc[0:10,['gender', 'ic2', 'ic3']]\n",
    "#filtered.loc[1:4]\n",
    "#filtered.loc[100]\n",
    "##----These guys are equivalent\n",
    "#filtered[1:4]\n",
    "filtered.iloc[1:4]\n",
    "# But this not\n",
    "#filtered.loc[1:4]\n"
   ]
  },
  {
   "cell_type": "code",
   "execution_count": null,
   "metadata": {
    "id": "InYo0w9sBBsz"
   },
   "outputs": [],
   "source": [
    "# now, working just on the indexes row,columns\n",
    "filtered.iloc[0:10,0:4]\n",
    "#filtered.iloc[[1,2,4,3,8],[0,2,4]]"
   ]
  },
  {
   "cell_type": "code",
   "execution_count": null,
   "metadata": {
    "id": "YgMZ0QkCss_P"
   },
   "outputs": [],
   "source": [
    "filtered.iloc[0:10,['id','state','gender','ic2']]"
   ]
  },
  {
   "cell_type": "code",
   "execution_count": null,
   "metadata": {
    "id": "2CWHWI3Gs4Vc"
   },
   "outputs": [],
   "source": [
    "filtered.loc[0:10,['id','state','gender','ic2']]"
   ]
  },
  {
   "cell_type": "code",
   "execution_count": null,
   "metadata": {
    "id": "XNmO4TURtL03"
   },
   "outputs": [],
   "source": [
    "filtered[0:5]"
   ]
  },
  {
   "cell_type": "code",
   "execution_count": null,
   "metadata": {
    "id": "HL8SbMJltnkS"
   },
   "outputs": [],
   "source": [
    "# .iloc works with implicit numeric indexes\n",
    "# loc works with implicit numeric indexes or rows/columns names"
   ]
  },
  {
   "cell_type": "markdown",
   "metadata": {
    "id": "ys75mEvucpF8"
   },
   "source": [
    "## Activity 3\n",
    "\n",
    "You can find the instructions of this activity [here](https://github.com/ironhack-edu/data_1.03_activities/blob/master/1.03_activity_3.md)"
   ]
  },
  {
   "cell_type": "code",
   "execution_count": null,
   "metadata": {
    "id": "KYN2EotFBBsz"
   },
   "outputs": [],
   "source": [
    "#Activity 3\n",
    "# 1 Filter the results where the gender is F \n",
    "#   and store the results in another DataFrame filtered2\n",
    "\n"
   ]
  },
  {
   "cell_type": "code",
   "execution_count": null,
   "metadata": {
    "id": "x_PgPlBhBBsz"
   },
   "outputs": [],
   "source": [
    "# 2 Check the first 10 rows of the DataFrame using the head() function.\n"
   ]
  },
  {
   "cell_type": "code",
   "execution_count": null,
   "metadata": {
    "id": "uGn36gbTBBsz"
   },
   "outputs": [],
   "source": [
    "# 3 Reset the index of filtered2 with and without using the parameter drop=True \n",
    "#   and check the difference in the results.\n"
   ]
  },
  {
   "cell_type": "code",
   "execution_count": null,
   "metadata": {
    "id": "t6BikDI3BBsz"
   },
   "outputs": [],
   "source": [
    "# 4 Show the rows from index number 100 to 200.\n"
   ]
  },
  {
   "cell_type": "code",
   "execution_count": null,
   "metadata": {
    "id": "sOFZ1KagBBs0"
   },
   "outputs": [],
   "source": [
    "# 5 Use iloc to get the first 100 rows and columns with indexes 2,3,4,5.\n",
    "\n",
    "\n",
    "#End of Activity 3"
   ]
  },
  {
   "cell_type": "code",
   "execution_count": null,
   "metadata": {
    "id": "w8UgO3T8Wc1F"
   },
   "outputs": [],
   "source": [
    "data.head()"
   ]
  },
  {
   "cell_type": "code",
   "execution_count": null,
   "metadata": {
    "id": "Prabvq8L02aL"
   },
   "outputs": [],
   "source": [
    "data['ic5'].unique()"
   ]
  },
  {
   "cell_type": "code",
   "execution_count": null,
   "metadata": {
    "id": "xQy-ZKWn9U29"
   },
   "outputs": [],
   "source": [
    "data['ic5'].value_counts()"
   ]
  },
  {
   "cell_type": "code",
   "execution_count": null,
   "metadata": {
    "id": "kjyf947yBBs0"
   },
   "outputs": [],
   "source": [
    "# Explaore the data types of a given dataframe\n",
    "#data.dtypes\n",
    "#data._get_numeric_data()\n",
    "#data._get_bool_data()\n",
    "#data.select_dtypes(['object'])\n",
    "#data.select_dtypes(['int','float32','float64'])\n",
    "#data.select_dtypes([np.object])\n",
    "data.info()"
   ]
  },
  {
   "cell_type": "code",
   "execution_count": null,
   "metadata": {
    "id": "pBBpp4gsZqXv"
   },
   "outputs": [],
   "source": [
    "float(\"Hello world\")"
   ]
  },
  {
   "cell_type": "code",
   "execution_count": null,
   "metadata": {
    "id": "J7HVeDGs2sTp"
   },
   "outputs": [],
   "source": [
    "def clean_median(x):\n",
    "    x = str(x)\n",
    "    if ( 'A' in x ):\n",
    "        x = x.replace(\"A\",\"\")\n",
    "    x = float(x)\n",
    "    return x"
   ]
  },
  {
   "cell_type": "code",
   "execution_count": null,
   "metadata": {
    "id": "atfdFx7FCYSu"
   },
   "outputs": [],
   "source": [
    "clean_median(\"3A5\")"
   ]
  },
  {
   "cell_type": "code",
   "execution_count": null,
   "metadata": {
    "id": "So9Ke63JBUNO"
   },
   "outputs": [],
   "source": [
    "#def clean_median(df,\"median_home_val\"):\n",
    "#    df2 = df.copy()\n",
    "#    for i in range(len(df2)):\n",
    "#        if ( 'A' in df2.loc[i,\"median_home_val\"] ):\n",
    "#            df2.loc[i,\"median_home_val\"] = df2.loc[i,\"median_home_val\"].replace(\"A\",\"\")\n",
    "#    df2.loc[i,\"median_home_val\"] = float(df2.loc[i,\"median_home_val\"])\n",
    "#    return df2"
   ]
  },
  {
   "cell_type": "code",
   "execution_count": null,
   "metadata": {
    "id": "jqlweDR9d3FN"
   },
   "outputs": [],
   "source": [
    "list(map(function_name,column))"
   ]
  },
  {
   "cell_type": "code",
   "execution_count": null,
   "metadata": {
    "id": "Baa8c_nNDAQ6"
   },
   "outputs": [],
   "source": [
    "data2 = data.copy()\n",
    "#data2['median_home_val'].unique()\n",
    "data2['median_home_val'] = data2['median_home_val'].apply(clean_median)\n",
    "#data2['median_home_val']\n",
    "#data2['median_home_val'] = list(map(clean_median,data2['median_home_val']))\n",
    "data2[['median_home_val']]"
   ]
  },
  {
   "cell_type": "code",
   "execution_count": null,
   "metadata": {
    "id": "nkh64RfRJ2-Z"
   },
   "outputs": [],
   "source": [
    "list(enumerate(\"AAA56\"))"
   ]
  },
  {
   "cell_type": "code",
   "execution_count": null,
   "metadata": {
    "id": "5DhZ0nXJLghF"
   },
   "outputs": [],
   "source": [
    "temp = \"\" \n",
    "temp = temp + \"5\"\n",
    "temp"
   ]
  },
  {
   "cell_type": "code",
   "execution_count": null,
   "metadata": {
    "id": "WyFJjeUVHbl6"
   },
   "outputs": [],
   "source": [
    "def clean_median2(x):\n",
    "    if (isinstance(x,float)):\n",
    "        return x\n",
    "    elif (isinstance(x,int)):\n",
    "        return float(x)\n",
    "    else:\n",
    "        temp = \"\"\n",
    "        for index, value in enumerate(x):\n",
    "            if (value.isdigit()== True or (value in [\".\",\"-\"])):\n",
    "                temp = temp + value\n",
    "                #temp += value\n",
    "        x = float(temp)\n",
    "        return x"
   ]
  },
  {
   "cell_type": "code",
   "execution_count": null,
   "metadata": {
    "id": "E9On-ltWI_Ym"
   },
   "outputs": [],
   "source": [
    "clean_median2(\"86.6\")"
   ]
  },
  {
   "cell_type": "code",
   "execution_count": null,
   "metadata": {
    "id": "1jRJyOGPBBs0"
   },
   "outputs": [],
   "source": [
    "# correcting data types\n",
    "data['median_home_val'] =  pd.to_numeric(data['median_home_val'], errors='coerce')\n",
    "data['ic5'] =  pd.to_numeric(data['ic5'], errors='coerce')\n",
    "data.head(20)\n",
    "\n",
    "#data._get_numeric_data() # to check if 'median_home_val' and 'ic5' are now listed as numeric data"
   ]
  },
  {
   "cell_type": "code",
   "execution_count": null,
   "metadata": {
    "id": "cV8N3IPNBBs0"
   },
   "outputs": [],
   "source": [
    "# Removing duplicates\n",
    "print(data.shape)\n",
    "data2 = data.copy()\n",
    "data2 = data2.drop_duplicates()  # nb keep argument\n",
    "# #if we want to remove duplicates based on some specific columns\n",
    "data2 = data2.drop_duplicates(subset=['state','gender', 'ic2', 'ic3'])\n",
    "#data2 = data2.drop_duplicates(subset=['state','gender', 'ic2', 'ic3'],keep='last')\n",
    "# #data2\n",
    "print(data2.shape)\n",
    "\n"
   ]
  },
  {
   "cell_type": "markdown",
   "metadata": {
    "id": "3wD6tuvIc3ON"
   },
   "source": [
    "## Activity 4\n",
    "\n",
    "You can find the instructions of this activity [here](https://github.com/ironhack-edu/data_1.03_activities/blob/master/1.03_activity_3.md)"
   ]
  },
  {
   "cell_type": "code",
   "execution_count": null,
   "metadata": {
    "id": "ZPu4ScxDBBs0"
   },
   "outputs": [],
   "source": [
    "# Activity 4\n",
    "\n",
    "# 1 Check the data types of all the columns in the DataFrame.\n"
   ]
  },
  {
   "cell_type": "code",
   "execution_count": null,
   "metadata": {
    "id": "HzAM0nHJBBs1"
   },
   "outputs": [],
   "source": [
    "# 2 Use select_dtypes() to select all the numerical columns in the DataFrame (both integers and floats).\n"
   ]
  },
  {
   "cell_type": "code",
   "execution_count": null,
   "metadata": {
    "id": "ofBz4B5eBBs1"
   },
   "outputs": [],
   "source": [
    "# 3 Convert the columns that have numerical values (which are now object types) to the numeric type.\n"
   ]
  },
  {
   "cell_type": "code",
   "execution_count": null,
   "metadata": {
    "id": "0oKLygBhBBs1"
   },
   "outputs": [],
   "source": [
    "# 4 Remove duplicates from the DataFrame if any.\n"
   ]
  },
  {
   "cell_type": "code",
   "execution_count": null,
   "metadata": {
    "id": "1_cUuCjhdGAE"
   },
   "outputs": [],
   "source": [
    "# end of activity 4"
   ]
  },
  {
   "cell_type": "code",
   "execution_count": null,
   "metadata": {
    "id": "U_OS7f1OWc1G"
   },
   "outputs": [],
   "source": [
    "data.head()"
   ]
  },
  {
   "cell_type": "code",
   "execution_count": null,
   "metadata": {
    "id": "FAYNqsMfBAuc"
   },
   "outputs": [],
   "source": [
    "def clean_median(x):\n",
    "    if ( isinstance(x,str) ):\n",
    "        x = x.replace(\"A\",\"\")\n",
    "        x = float(x)\n",
    "    else: \n",
    "        x = float(x)\n",
    "    return x"
   ]
  },
  {
   "cell_type": "code",
   "execution_count": null,
   "metadata": {
    "id": "VfXedehTBwae"
   },
   "outputs": [],
   "source": [
    "lambda x: float(x.replace(\"A\",\"\")) "
   ]
  },
  {
   "cell_type": "code",
   "execution_count": null,
   "metadata": {
    "id": "6atMUDE_FFYs"
   },
   "outputs": [],
   "source": [
    "def square_value(x):\n",
    "    return x**2"
   ]
  },
  {
   "cell_type": "markdown",
   "metadata": {
    "id": "JpGOCpi3mZf1"
   },
   "source": [
    "List comprehension"
   ]
  },
  {
   "cell_type": "code",
   "execution_count": null,
   "metadata": {
    "id": "xjuMPA4kmdQb"
   },
   "outputs": [],
   "source": [
    "my_list = []\n",
    "\n",
    "for i in range(1,6):\n",
    "    my_list.append(i**2)\n",
    "\n",
    "my_list"
   ]
  },
  {
   "cell_type": "markdown",
   "metadata": {
    "id": "dno5yj4tm_4I"
   },
   "source": [
    "[ i** 2 for i in range(1,6)]"
   ]
  },
  {
   "cell_type": "code",
   "execution_count": null,
   "metadata": {
    "id": "YRiemRklFKyp"
   },
   "outputs": [],
   "source": [
    "[i**2 for i in range(1,6)]"
   ]
  },
  {
   "cell_type": "code",
   "execution_count": null,
   "metadata": {
    "id": "DsVOJSfnuqCT"
   },
   "outputs": [],
   "source": [
    "def function_name(x):\n",
    "    ...\n",
    "    return "
   ]
  },
  {
   "cell_type": "markdown",
   "metadata": {
    "id": "3lAqSLUfoB9g"
   },
   "source": [
    "Lambda functions (anonimous functions)"
   ]
  },
  {
   "cell_type": "markdown",
   "metadata": {
    "id": "p6JDvm-HoRw1"
   },
   "source": [
    "```python\n",
    "def function_name(x,y):\n",
    "    return x+y\n",
    "```"
   ]
  },
  {
   "cell_type": "markdown",
   "metadata": {
    "id": "Ms3cdWYsocHN"
   },
   "source": [
    "Lambda function syntax:\n",
    "\n",
    "lambda arguments: value_to_be_returned"
   ]
  },
  {
   "cell_type": "markdown",
   "metadata": {
    "id": "I_5MjRyro0lk"
   },
   "source": [
    "Steps to cast a user defined function into a lambda function:\n",
    "\n",
    "* Replace \"def\" by \"lambda\"\n",
    "* Remove the function name\n",
    "* Remove the parentheses\n",
    "* Remove the return"
   ]
  },
  {
   "cell_type": "markdown",
   "metadata": {
    "id": "O3jOg8BMowgE"
   },
   "source": [
    "```python\n",
    "lambda x,y: x+y\n",
    "```"
   ]
  },
  {
   "cell_type": "markdown",
   "metadata": {
    "id": "cX3kfh6VpuNv"
   },
   "source": [
    "```python\n",
    "def check_if_male(x):\n",
    "    if ( x == \"Male\" ):\n",
    "        print(\"This a Male\")\n",
    "    else:\n",
    "        print(\"This a Female\")\n",
    "```"
   ]
  },
  {
   "cell_type": "markdown",
   "metadata": {
    "id": "UVh8yrFXqAI7"
   },
   "source": [
    "```python\n",
    "lambda x: print(\"This a Male\") if ( x == \"Male\" ) else print(\"This is a Female\")\n",
    "```"
   ]
  },
  {
   "cell_type": "markdown",
   "metadata": {
    "id": "RWm0AFLHouLb"
   },
   "source": []
  },
  {
   "cell_type": "code",
   "execution_count": null,
   "metadata": {
    "id": "sLttr_JJCNxq"
   },
   "outputs": [],
   "source": [
    "#data[\"ic5\"].apply(clean_median)\n",
    "#data['ic5'] = list(map(clean_median,data['ic5']))\n",
    "#data[\"ic5\"].apply(lambda x: float(x.replace(\"A\",\"\")) if ( isinstance(x,str) ) else float(x))\n",
    "list(map(lambda x: float(x.replace(\"A\",\"\")) if ( isinstance(x,str) ) else float(x),data['ic5']))"
   ]
  },
  {
   "cell_type": "code",
   "execution_count": null,
   "metadata": {
    "id": "IC2qLWh1wXw1"
   },
   "outputs": [],
   "source": [
    "lambda(\"x\")"
   ]
  },
  {
   "cell_type": "code",
   "execution_count": null,
   "metadata": {
    "id": "aPe6ksX3rJfn"
   },
   "outputs": [],
   "source": [
    "list(enumerate([3,1,5]))"
   ]
  },
  {
   "cell_type": "code",
   "execution_count": null,
   "metadata": {
    "id": "ViZEcZax_3m9"
   },
   "outputs": [],
   "source": [
    "for value in data['ic4']:\n",
    "    print(value + 5)\n",
    "\n",
    "data['ic5'] = data['ic5'].apply(clean_median)\n",
    "data['ic5'] = list(map(function_name,data['ic5']))\n",
    "data['ic5'] = data['ic5'].apply(lambda x: float(x.replace(\"A\",\"\")) if (\"A\" in x) else float(x))"
   ]
  }
 ],
 "metadata": {
  "colab": {
   "provenance": []
  },
  "kernelspec": {
   "display_name": "Python 3 (ipykernel)",
   "language": "python",
   "name": "python3"
  },
  "language_info": {
   "codemirror_mode": {
    "name": "ipython",
    "version": 3
   },
   "file_extension": ".py",
   "mimetype": "text/x-python",
   "name": "python",
   "nbconvert_exporter": "python",
   "pygments_lexer": "ipython3",
   "version": "3.9.13"
  }
 },
 "nbformat": 4,
 "nbformat_minor": 1
}
